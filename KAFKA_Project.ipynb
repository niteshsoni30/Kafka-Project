{
  "cells": [
    {
      "cell_type": "markdown",
      "metadata": {
        "id": "view-in-github",
        "colab_type": "text"
      },
      "source": [
        "<a href=\"https://colab.research.google.com/github/niteshsoni30/Kafka-Project/blob/main/KAFKA_Project.ipynb\" target=\"_parent\"><img src=\"https://colab.research.google.com/assets/colab-badge.svg\" alt=\"Open In Colab\"/></a>"
      ]
    },
    {
      "cell_type": "code",
      "execution_count": null,
      "metadata": {
        "id": "s9SsB22X0bRp"
      },
      "outputs": [],
      "source": [
        "# Send a message to confluent kafka topic via Python"
      ]
    },
    {
      "cell_type": "code",
      "execution_count": null,
      "metadata": {
        "id": "LY2fOEs50rDy",
        "colab": {
          "base_uri": "https://localhost:8080/"
        },
        "outputId": "43a9648a-bbc4-4f30-8e98-53607cb62f18"
      },
      "outputs": [
        {
          "output_type": "stream",
          "name": "stdout",
          "text": [
            "Collecting confluent-kafka\n",
            "  Downloading confluent_kafka-2.10.1-cp311-cp311-manylinux_2_28_x86_64.whl.metadata (23 kB)\n",
            "Downloading confluent_kafka-2.10.1-cp311-cp311-manylinux_2_28_x86_64.whl (3.9 MB)\n",
            "\u001b[2K   \u001b[90m━━━━━━━━━━━━━━━━━━━━━━━━━━━━━━━━━━━━━━━━\u001b[0m \u001b[32m3.9/3.9 MB\u001b[0m \u001b[31m34.1 MB/s\u001b[0m eta \u001b[36m0:00:00\u001b[0m\n",
            "\u001b[?25hInstalling collected packages: confluent-kafka\n",
            "Successfully installed confluent-kafka-2.10.1\n"
          ]
        }
      ],
      "source": [
        "!pip install confluent-kafka"
      ]
    },
    {
      "cell_type": "code",
      "execution_count": null,
      "metadata": {
        "id": "86rSAaEH04wX"
      },
      "outputs": [],
      "source": [
        "from confluent_kafka import Producer\n",
        "import json\n",
        "import time"
      ]
    },
    {
      "cell_type": "code",
      "execution_count": null,
      "metadata": {
        "id": "f1fDXXGI1AV6"
      },
      "outputs": [],
      "source": [
        "import pandas as pd\n",
        "\n",
        "df = pd.read_csv(\"/content/first_100_customers.csv\")\n"
      ]
    },
    {
      "cell_type": "code",
      "execution_count": null,
      "metadata": {
        "id": "kJ3GXFWc1gYr",
        "colab": {
          "base_uri": "https://localhost:8080/",
          "height": 206
        },
        "outputId": "6cfd7a81-f3c6-4177-80a7-2bbb1b0e0eb3"
      },
      "outputs": [
        {
          "output_type": "execute_result",
          "data": {
            "text/plain": [
              "   customer_id        name       city        state country registration_date  \\\n",
              "0            0  Customer_0       Pune  Maharashtra   India        2023-06-29   \n",
              "1            1  Customer_1  Bangalore   Tamil Nadu   India        2023-12-07   \n",
              "2            2  Customer_2  Hyderabad      Gujarat   India        2023-10-27   \n",
              "3            3  Customer_3  Bangalore    Karnataka   India        2023-10-17   \n",
              "4            4  Customer_4  Ahmedabad    Karnataka   India        2023-03-14   \n",
              "\n",
              "   is_active  \n",
              "0      False  \n",
              "1       True  \n",
              "2       True  \n",
              "3      False  \n",
              "4      False  "
            ],
            "text/html": [
              "\n",
              "  <div id=\"df-c73db57a-4752-41a2-af22-3a2cb4d69895\" class=\"colab-df-container\">\n",
              "    <div>\n",
              "<style scoped>\n",
              "    .dataframe tbody tr th:only-of-type {\n",
              "        vertical-align: middle;\n",
              "    }\n",
              "\n",
              "    .dataframe tbody tr th {\n",
              "        vertical-align: top;\n",
              "    }\n",
              "\n",
              "    .dataframe thead th {\n",
              "        text-align: right;\n",
              "    }\n",
              "</style>\n",
              "<table border=\"1\" class=\"dataframe\">\n",
              "  <thead>\n",
              "    <tr style=\"text-align: right;\">\n",
              "      <th></th>\n",
              "      <th>customer_id</th>\n",
              "      <th>name</th>\n",
              "      <th>city</th>\n",
              "      <th>state</th>\n",
              "      <th>country</th>\n",
              "      <th>registration_date</th>\n",
              "      <th>is_active</th>\n",
              "    </tr>\n",
              "  </thead>\n",
              "  <tbody>\n",
              "    <tr>\n",
              "      <th>0</th>\n",
              "      <td>0</td>\n",
              "      <td>Customer_0</td>\n",
              "      <td>Pune</td>\n",
              "      <td>Maharashtra</td>\n",
              "      <td>India</td>\n",
              "      <td>2023-06-29</td>\n",
              "      <td>False</td>\n",
              "    </tr>\n",
              "    <tr>\n",
              "      <th>1</th>\n",
              "      <td>1</td>\n",
              "      <td>Customer_1</td>\n",
              "      <td>Bangalore</td>\n",
              "      <td>Tamil Nadu</td>\n",
              "      <td>India</td>\n",
              "      <td>2023-12-07</td>\n",
              "      <td>True</td>\n",
              "    </tr>\n",
              "    <tr>\n",
              "      <th>2</th>\n",
              "      <td>2</td>\n",
              "      <td>Customer_2</td>\n",
              "      <td>Hyderabad</td>\n",
              "      <td>Gujarat</td>\n",
              "      <td>India</td>\n",
              "      <td>2023-10-27</td>\n",
              "      <td>True</td>\n",
              "    </tr>\n",
              "    <tr>\n",
              "      <th>3</th>\n",
              "      <td>3</td>\n",
              "      <td>Customer_3</td>\n",
              "      <td>Bangalore</td>\n",
              "      <td>Karnataka</td>\n",
              "      <td>India</td>\n",
              "      <td>2023-10-17</td>\n",
              "      <td>False</td>\n",
              "    </tr>\n",
              "    <tr>\n",
              "      <th>4</th>\n",
              "      <td>4</td>\n",
              "      <td>Customer_4</td>\n",
              "      <td>Ahmedabad</td>\n",
              "      <td>Karnataka</td>\n",
              "      <td>India</td>\n",
              "      <td>2023-03-14</td>\n",
              "      <td>False</td>\n",
              "    </tr>\n",
              "  </tbody>\n",
              "</table>\n",
              "</div>\n",
              "    <div class=\"colab-df-buttons\">\n",
              "\n",
              "  <div class=\"colab-df-container\">\n",
              "    <button class=\"colab-df-convert\" onclick=\"convertToInteractive('df-c73db57a-4752-41a2-af22-3a2cb4d69895')\"\n",
              "            title=\"Convert this dataframe to an interactive table.\"\n",
              "            style=\"display:none;\">\n",
              "\n",
              "  <svg xmlns=\"http://www.w3.org/2000/svg\" height=\"24px\" viewBox=\"0 -960 960 960\">\n",
              "    <path d=\"M120-120v-720h720v720H120Zm60-500h600v-160H180v160Zm220 220h160v-160H400v160Zm0 220h160v-160H400v160ZM180-400h160v-160H180v160Zm440 0h160v-160H620v160ZM180-180h160v-160H180v160Zm440 0h160v-160H620v160Z\"/>\n",
              "  </svg>\n",
              "    </button>\n",
              "\n",
              "  <style>\n",
              "    .colab-df-container {\n",
              "      display:flex;\n",
              "      gap: 12px;\n",
              "    }\n",
              "\n",
              "    .colab-df-convert {\n",
              "      background-color: #E8F0FE;\n",
              "      border: none;\n",
              "      border-radius: 50%;\n",
              "      cursor: pointer;\n",
              "      display: none;\n",
              "      fill: #1967D2;\n",
              "      height: 32px;\n",
              "      padding: 0 0 0 0;\n",
              "      width: 32px;\n",
              "    }\n",
              "\n",
              "    .colab-df-convert:hover {\n",
              "      background-color: #E2EBFA;\n",
              "      box-shadow: 0px 1px 2px rgba(60, 64, 67, 0.3), 0px 1px 3px 1px rgba(60, 64, 67, 0.15);\n",
              "      fill: #174EA6;\n",
              "    }\n",
              "\n",
              "    .colab-df-buttons div {\n",
              "      margin-bottom: 4px;\n",
              "    }\n",
              "\n",
              "    [theme=dark] .colab-df-convert {\n",
              "      background-color: #3B4455;\n",
              "      fill: #D2E3FC;\n",
              "    }\n",
              "\n",
              "    [theme=dark] .colab-df-convert:hover {\n",
              "      background-color: #434B5C;\n",
              "      box-shadow: 0px 1px 3px 1px rgba(0, 0, 0, 0.15);\n",
              "      filter: drop-shadow(0px 1px 2px rgba(0, 0, 0, 0.3));\n",
              "      fill: #FFFFFF;\n",
              "    }\n",
              "  </style>\n",
              "\n",
              "    <script>\n",
              "      const buttonEl =\n",
              "        document.querySelector('#df-c73db57a-4752-41a2-af22-3a2cb4d69895 button.colab-df-convert');\n",
              "      buttonEl.style.display =\n",
              "        google.colab.kernel.accessAllowed ? 'block' : 'none';\n",
              "\n",
              "      async function convertToInteractive(key) {\n",
              "        const element = document.querySelector('#df-c73db57a-4752-41a2-af22-3a2cb4d69895');\n",
              "        const dataTable =\n",
              "          await google.colab.kernel.invokeFunction('convertToInteractive',\n",
              "                                                    [key], {});\n",
              "        if (!dataTable) return;\n",
              "\n",
              "        const docLinkHtml = 'Like what you see? Visit the ' +\n",
              "          '<a target=\"_blank\" href=https://colab.research.google.com/notebooks/data_table.ipynb>data table notebook</a>'\n",
              "          + ' to learn more about interactive tables.';\n",
              "        element.innerHTML = '';\n",
              "        dataTable['output_type'] = 'display_data';\n",
              "        await google.colab.output.renderOutput(dataTable, element);\n",
              "        const docLink = document.createElement('div');\n",
              "        docLink.innerHTML = docLinkHtml;\n",
              "        element.appendChild(docLink);\n",
              "      }\n",
              "    </script>\n",
              "  </div>\n",
              "\n",
              "\n",
              "    <div id=\"df-d96fe23e-fc25-48d3-98f3-10ea489a4abe\">\n",
              "      <button class=\"colab-df-quickchart\" onclick=\"quickchart('df-d96fe23e-fc25-48d3-98f3-10ea489a4abe')\"\n",
              "                title=\"Suggest charts\"\n",
              "                style=\"display:none;\">\n",
              "\n",
              "<svg xmlns=\"http://www.w3.org/2000/svg\" height=\"24px\"viewBox=\"0 0 24 24\"\n",
              "     width=\"24px\">\n",
              "    <g>\n",
              "        <path d=\"M19 3H5c-1.1 0-2 .9-2 2v14c0 1.1.9 2 2 2h14c1.1 0 2-.9 2-2V5c0-1.1-.9-2-2-2zM9 17H7v-7h2v7zm4 0h-2V7h2v10zm4 0h-2v-4h2v4z\"/>\n",
              "    </g>\n",
              "</svg>\n",
              "      </button>\n",
              "\n",
              "<style>\n",
              "  .colab-df-quickchart {\n",
              "      --bg-color: #E8F0FE;\n",
              "      --fill-color: #1967D2;\n",
              "      --hover-bg-color: #E2EBFA;\n",
              "      --hover-fill-color: #174EA6;\n",
              "      --disabled-fill-color: #AAA;\n",
              "      --disabled-bg-color: #DDD;\n",
              "  }\n",
              "\n",
              "  [theme=dark] .colab-df-quickchart {\n",
              "      --bg-color: #3B4455;\n",
              "      --fill-color: #D2E3FC;\n",
              "      --hover-bg-color: #434B5C;\n",
              "      --hover-fill-color: #FFFFFF;\n",
              "      --disabled-bg-color: #3B4455;\n",
              "      --disabled-fill-color: #666;\n",
              "  }\n",
              "\n",
              "  .colab-df-quickchart {\n",
              "    background-color: var(--bg-color);\n",
              "    border: none;\n",
              "    border-radius: 50%;\n",
              "    cursor: pointer;\n",
              "    display: none;\n",
              "    fill: var(--fill-color);\n",
              "    height: 32px;\n",
              "    padding: 0;\n",
              "    width: 32px;\n",
              "  }\n",
              "\n",
              "  .colab-df-quickchart:hover {\n",
              "    background-color: var(--hover-bg-color);\n",
              "    box-shadow: 0 1px 2px rgba(60, 64, 67, 0.3), 0 1px 3px 1px rgba(60, 64, 67, 0.15);\n",
              "    fill: var(--button-hover-fill-color);\n",
              "  }\n",
              "\n",
              "  .colab-df-quickchart-complete:disabled,\n",
              "  .colab-df-quickchart-complete:disabled:hover {\n",
              "    background-color: var(--disabled-bg-color);\n",
              "    fill: var(--disabled-fill-color);\n",
              "    box-shadow: none;\n",
              "  }\n",
              "\n",
              "  .colab-df-spinner {\n",
              "    border: 2px solid var(--fill-color);\n",
              "    border-color: transparent;\n",
              "    border-bottom-color: var(--fill-color);\n",
              "    animation:\n",
              "      spin 1s steps(1) infinite;\n",
              "  }\n",
              "\n",
              "  @keyframes spin {\n",
              "    0% {\n",
              "      border-color: transparent;\n",
              "      border-bottom-color: var(--fill-color);\n",
              "      border-left-color: var(--fill-color);\n",
              "    }\n",
              "    20% {\n",
              "      border-color: transparent;\n",
              "      border-left-color: var(--fill-color);\n",
              "      border-top-color: var(--fill-color);\n",
              "    }\n",
              "    30% {\n",
              "      border-color: transparent;\n",
              "      border-left-color: var(--fill-color);\n",
              "      border-top-color: var(--fill-color);\n",
              "      border-right-color: var(--fill-color);\n",
              "    }\n",
              "    40% {\n",
              "      border-color: transparent;\n",
              "      border-right-color: var(--fill-color);\n",
              "      border-top-color: var(--fill-color);\n",
              "    }\n",
              "    60% {\n",
              "      border-color: transparent;\n",
              "      border-right-color: var(--fill-color);\n",
              "    }\n",
              "    80% {\n",
              "      border-color: transparent;\n",
              "      border-right-color: var(--fill-color);\n",
              "      border-bottom-color: var(--fill-color);\n",
              "    }\n",
              "    90% {\n",
              "      border-color: transparent;\n",
              "      border-bottom-color: var(--fill-color);\n",
              "    }\n",
              "  }\n",
              "</style>\n",
              "\n",
              "      <script>\n",
              "        async function quickchart(key) {\n",
              "          const quickchartButtonEl =\n",
              "            document.querySelector('#' + key + ' button');\n",
              "          quickchartButtonEl.disabled = true;  // To prevent multiple clicks.\n",
              "          quickchartButtonEl.classList.add('colab-df-spinner');\n",
              "          try {\n",
              "            const charts = await google.colab.kernel.invokeFunction(\n",
              "                'suggestCharts', [key], {});\n",
              "          } catch (error) {\n",
              "            console.error('Error during call to suggestCharts:', error);\n",
              "          }\n",
              "          quickchartButtonEl.classList.remove('colab-df-spinner');\n",
              "          quickchartButtonEl.classList.add('colab-df-quickchart-complete');\n",
              "        }\n",
              "        (() => {\n",
              "          let quickchartButtonEl =\n",
              "            document.querySelector('#df-d96fe23e-fc25-48d3-98f3-10ea489a4abe button');\n",
              "          quickchartButtonEl.style.display =\n",
              "            google.colab.kernel.accessAllowed ? 'block' : 'none';\n",
              "        })();\n",
              "      </script>\n",
              "    </div>\n",
              "\n",
              "    </div>\n",
              "  </div>\n"
            ],
            "application/vnd.google.colaboratory.intrinsic+json": {
              "type": "dataframe",
              "variable_name": "df",
              "summary": "{\n  \"name\": \"df\",\n  \"rows\": 99,\n  \"fields\": [\n    {\n      \"column\": \"customer_id\",\n      \"properties\": {\n        \"dtype\": \"number\",\n        \"std\": 28,\n        \"min\": 0,\n        \"max\": 98,\n        \"num_unique_values\": 99,\n        \"samples\": [\n          62,\n          40,\n          95\n        ],\n        \"semantic_type\": \"\",\n        \"description\": \"\"\n      }\n    },\n    {\n      \"column\": \"name\",\n      \"properties\": {\n        \"dtype\": \"string\",\n        \"num_unique_values\": 99,\n        \"samples\": [\n          \"Customer_62\",\n          \"Customer_40\",\n          \"Customer_95\"\n        ],\n        \"semantic_type\": \"\",\n        \"description\": \"\"\n      }\n    },\n    {\n      \"column\": \"city\",\n      \"properties\": {\n        \"dtype\": \"category\",\n        \"num_unique_values\": 8,\n        \"samples\": [\n          \"Bangalore\",\n          \"Delhi\",\n          \"Pune\"\n        ],\n        \"semantic_type\": \"\",\n        \"description\": \"\"\n      }\n    },\n    {\n      \"column\": \"state\",\n      \"properties\": {\n        \"dtype\": \"category\",\n        \"num_unique_values\": 7,\n        \"samples\": [\n          \"Maharashtra\",\n          \"Tamil Nadu\",\n          \"West Bengal\"\n        ],\n        \"semantic_type\": \"\",\n        \"description\": \"\"\n      }\n    },\n    {\n      \"column\": \"country\",\n      \"properties\": {\n        \"dtype\": \"category\",\n        \"num_unique_values\": 1,\n        \"samples\": [\n          \"India\"\n        ],\n        \"semantic_type\": \"\",\n        \"description\": \"\"\n      }\n    },\n    {\n      \"column\": \"registration_date\",\n      \"properties\": {\n        \"dtype\": \"object\",\n        \"num_unique_values\": 90,\n        \"samples\": [\n          \"2023-01-15\"\n        ],\n        \"semantic_type\": \"\",\n        \"description\": \"\"\n      }\n    },\n    {\n      \"column\": \"is_active\",\n      \"properties\": {\n        \"dtype\": \"boolean\",\n        \"num_unique_values\": 2,\n        \"samples\": [\n          true\n        ],\n        \"semantic_type\": \"\",\n        \"description\": \"\"\n      }\n    }\n  ]\n}"
            }
          },
          "metadata": {},
          "execution_count": 5
        }
      ],
      "source": [
        "df.head()"
      ]
    },
    {
      "cell_type": "code",
      "execution_count": null,
      "metadata": {
        "id": "fK_9yuaO1kUq",
        "colab": {
          "base_uri": "https://localhost:8080/"
        },
        "outputId": "c055f27a-523a-4489-e572-68bc89ce5389"
      },
      "outputs": [
        {
          "output_type": "stream",
          "name": "stdout",
          "text": [
            "file records to json\n"
          ]
        }
      ],
      "source": [
        "# Converting DataFrame to Json fromat\n",
        "\n",
        "json_records = df.to_dict(orient = \"records\")\n",
        "\n",
        "json_file = \"customer.json\"\n",
        "\n",
        "with open(json_file ,\"w\") as file:\n",
        "  json.dump(json_records,file,indent =4)\n",
        "\n",
        "print(\"file records to json\")"
      ]
    },
    {
      "cell_type": "code",
      "execution_count": null,
      "metadata": {
        "id": "sqc_IaTP2PA2"
      },
      "outputs": [],
      "source": [
        "# Required connection configs for Kafka producer, consumer, and admin\n",
        "# bootstrap.servers=pkc-619z3.us-east1.gcp.confluent.cloud:9092\n",
        "# security.protocol=SASL_SSL\n",
        "# sasl.mechanisms=PLAIN\n",
        "# sasl.username=CPUUEECKBRJIFO27\n",
        "# sasl.password=9bcUxeNfnbl4ujwLoPHdTSa3AsVvdKdSQZ6zESsoj/HttL5e12hzzxpP2JKtleAS\n",
        "\n",
        "# Best practice for higher availability in librdkafka clients prior to 1.7\n",
        "# session.timeout.ms=45000\n",
        "\n",
        "# client.id=ccloud-python-client-9df31087-19cf-428d-a689-b4a1decbef6c\n"
      ]
    },
    {
      "cell_type": "code",
      "execution_count": null,
      "metadata": {
        "id": "YJvUWjz63NGv"
      },
      "outputs": [],
      "source": [
        "from confluent_kafka import Producer\n",
        "\n",
        "conf = {\n",
        "\n",
        "  \"bootstrap.servers\":\"pkc-619z3.us-east1.gcp.confluent.cloud:9092\",\n",
        "  \"security.protocol\":\"SASL_SSL\",\n",
        "  \"sasl.mechanisms\":\"PLAIN\",\n",
        "  \"sasl.username\":\"CPUUEECKBRJIFO27\",\n",
        "  \"sasl.password\":\"9bcUxeNfnbl4ujwLoPHdTSa3AsVvdKdSQZ6zESsoj/HttL5e12hzzxpP2JKtleAS\",\n",
        "\n",
        "  \"session.timeout.ms\":45000,\n",
        "\n",
        "  \"client.id\":\"ccloud-python-client-9df31087-19cf-428d-a689-b4a1decbef6c\",\n",
        "\n",
        "}"
      ]
    },
    {
      "cell_type": "code",
      "execution_count": null,
      "metadata": {
        "id": "-ddTLtwo3NF4"
      },
      "outputs": [],
      "source": [
        "producer = Producer(conf)"
      ]
    },
    {
      "cell_type": "markdown",
      "metadata": {
        "id": "8No_4Y2R3FqF"
      },
      "source": []
    },
    {
      "cell_type": "code",
      "execution_count": null,
      "metadata": {
        "id": "oOW3Z_PP5Tjv"
      },
      "outputs": [],
      "source": [
        "topic = \"ecommerce\"\n",
        "\n",
        "with open(\"customer.json\",\"r\") as file:\n",
        "  customers_data = json.load(file)\n",
        "\n",
        "value = customers_data[0]"
      ]
    },
    {
      "cell_type": "code",
      "execution_count": null,
      "metadata": {
        "id": "NxXeG1wk5Tkr",
        "colab": {
          "base_uri": "https://localhost:8080/"
        },
        "outputId": "8309ae12-e437-45c6-ac51-b38ba5abd6c7"
      },
      "outputs": [
        {
          "output_type": "execute_result",
          "data": {
            "text/plain": [
              "{'customer_id': 0,\n",
              " 'name': 'Customer_0',\n",
              " 'city': 'Pune',\n",
              " 'state': 'Maharashtra',\n",
              " 'country': 'India',\n",
              " 'registration_date': '2023-06-29',\n",
              " 'is_active': False}"
            ]
          },
          "metadata": {},
          "execution_count": 11
        }
      ],
      "source": [
        "value"
      ]
    },
    {
      "cell_type": "code",
      "execution_count": null,
      "metadata": {
        "id": "xRnGgqZe5TtM",
        "colab": {
          "base_uri": "https://localhost:8080/"
        },
        "outputId": "0df4eba9-1132-45b7-a304-96f83926720a"
      },
      "outputs": [
        {
          "output_type": "stream",
          "name": "stdout",
          "text": [
            "0 {'customer_id': 0, 'name': 'Customer_0', 'city': 'Pune', 'state': 'Maharashtra', 'country': 'India', 'registration_date': '2023-06-29', 'is_active': False}\n"
          ]
        }
      ],
      "source": [
        "key =value[\"customer_id\"]\n",
        "print(key,value)"
      ]
    },
    {
      "cell_type": "code",
      "execution_count": null,
      "metadata": {
        "id": "P802Qflk6G5w"
      },
      "outputs": [],
      "source": [
        "producer.produce(topic, key=str(key).encode(\"utf-8\"), value= str(value).encode(\"utf-8\"))"
      ]
    },
    {
      "cell_type": "code",
      "execution_count": null,
      "metadata": {
        "id": "Yky8uUHW6sXQ",
        "colab": {
          "base_uri": "https://localhost:8080/"
        },
        "outputId": "18306d74-e047-493d-c7da-23ea818dcbcc"
      },
      "outputs": [
        {
          "output_type": "stream",
          "name": "stdout",
          "text": [
            "messgae delivered to ecommerce [2] at offset 28\n",
            "messgae delivered to ecommerce [2] at offset 29\n",
            "messgae delivered to ecommerce [1] at offset 37\n",
            "messgae delivered to ecommerce [1] at offset 38\n",
            "messgae delivered to ecommerce [1] at offset 39\n",
            "messgae delivered to ecommerce [1] at offset 40\n",
            "messgae delivered to ecommerce [1] at offset 41\n",
            "messgae delivered to ecommerce [0] at offset 41\n",
            "messgae delivered to ecommerce [2] at offset 30\n",
            "messgae delivered to ecommerce [0] at offset 42\n",
            "messgae delivered to ecommerce [0] at offset 43\n",
            "messgae delivered to ecommerce [0] at offset 44\n",
            "messgae delivered to ecommerce [0] at offset 45\n",
            "messgae delivered to ecommerce [2] at offset 31\n",
            "messgae delivered to ecommerce [0] at offset 46\n",
            "messgae delivered to ecommerce [1] at offset 42\n",
            "messgae delivered to ecommerce [0] at offset 47\n",
            "messgae delivered to ecommerce [2] at offset 32\n",
            "messgae delivered to ecommerce [0] at offset 48\n",
            "messgae delivered to ecommerce [1] at offset 43\n",
            "messgae delivered to ecommerce [0] at offset 49\n",
            "messgae delivered to ecommerce [1] at offset 44\n",
            "messgae delivered to ecommerce [2] at offset 33\n",
            "messgae delivered to ecommerce [1] at offset 45\n",
            "messgae delivered to ecommerce [2] at offset 34\n",
            "messgae delivered to ecommerce [0] at offset 50\n",
            "messgae delivered to ecommerce [1] at offset 46\n",
            "messgae delivered to ecommerce [0] at offset 51\n",
            "messgae delivered to ecommerce [0] at offset 52\n",
            "messgae delivered to ecommerce [2] at offset 35\n",
            "messgae delivered to ecommerce [1] at offset 47\n",
            "messgae delivered to ecommerce [1] at offset 48\n",
            "messgae delivered to ecommerce [1] at offset 49\n",
            "messgae delivered to ecommerce [2] at offset 36\n",
            "messgae delivered to ecommerce [2] at offset 37\n",
            "messgae delivered to ecommerce [1] at offset 50\n",
            "messgae delivered to ecommerce [1] at offset 51\n",
            "messgae delivered to ecommerce [1] at offset 52\n",
            "messgae delivered to ecommerce [0] at offset 53\n",
            "messgae delivered to ecommerce [1] at offset 53\n",
            "messgae delivered to ecommerce [2] at offset 38\n",
            "messgae delivered to ecommerce [2] at offset 39\n",
            "messgae delivered to ecommerce [2] at offset 40\n",
            "messgae delivered to ecommerce [1] at offset 54\n",
            "messgae delivered to ecommerce [2] at offset 41\n",
            "messgae delivered to ecommerce [1] at offset 55\n",
            "messgae delivered to ecommerce [0] at offset 54\n",
            "messgae delivered to ecommerce [0] at offset 55\n",
            "messgae delivered to ecommerce [0] at offset 56\n",
            "messgae delivered to ecommerce [0] at offset 57\n",
            "messgae delivered to ecommerce [0] at offset 58\n",
            "messgae delivered to ecommerce [0] at offset 59\n",
            "messgae delivered to ecommerce [1] at offset 56\n",
            "messgae delivered to ecommerce [0] at offset 60\n",
            "messgae delivered to ecommerce [1] at offset 57\n",
            "messgae delivered to ecommerce [2] at offset 42\n",
            "messgae delivered to ecommerce [1] at offset 58\n",
            "messgae delivered to ecommerce [0] at offset 61\n",
            "messgae delivered to ecommerce [0] at offset 62\n",
            "messgae delivered to ecommerce [2] at offset 43\n",
            "messgae delivered to ecommerce [0] at offset 63\n",
            "messgae delivered to ecommerce [1] at offset 59\n",
            "messgae delivered to ecommerce [1] at offset 60\n",
            "messgae delivered to ecommerce [0] at offset 64\n",
            "messgae delivered to ecommerce [0] at offset 65\n",
            "messgae delivered to ecommerce [0] at offset 66\n",
            "messgae delivered to ecommerce [1] at offset 61\n",
            "messgae delivered to ecommerce [1] at offset 62\n",
            "messgae delivered to ecommerce [1] at offset 63\n",
            "messgae delivered to ecommerce [1] at offset 64\n",
            "messgae delivered to ecommerce [1] at offset 65\n",
            "messgae delivered to ecommerce [1] at offset 66\n",
            "messgae delivered to ecommerce [0] at offset 67\n",
            "messgae delivered to ecommerce [1] at offset 67\n",
            "messgae delivered to ecommerce [2] at offset 44\n",
            "messgae delivered to ecommerce [0] at offset 68\n",
            "messgae delivered to ecommerce [2] at offset 45\n",
            "messgae delivered to ecommerce [0] at offset 69\n",
            "messgae delivered to ecommerce [0] at offset 70\n",
            "messgae delivered to ecommerce [2] at offset 46\n",
            "messgae delivered to ecommerce [0] at offset 71\n",
            "messgae delivered to ecommerce [2] at offset 47\n",
            "messgae delivered to ecommerce [0] at offset 72\n",
            "messgae delivered to ecommerce [2] at offset 48\n",
            "messgae delivered to ecommerce [1] at offset 68\n",
            "messgae delivered to ecommerce [0] at offset 73\n",
            "messgae delivered to ecommerce [0] at offset 74\n",
            "messgae delivered to ecommerce [1] at offset 69\n",
            "messgae delivered to ecommerce [1] at offset 70\n",
            "messgae delivered to ecommerce [0] at offset 75\n",
            "messgae delivered to ecommerce [0] at offset 76\n",
            "messgae delivered to ecommerce [0] at offset 77\n",
            "messgae delivered to ecommerce [1] at offset 71\n",
            "messgae delivered to ecommerce [1] at offset 72\n",
            "messgae delivered to ecommerce [0] at offset 78\n",
            "messgae delivered to ecommerce [0] at offset 79\n",
            "messgae delivered to ecommerce [1] at offset 73\n",
            "messgae delivered to ecommerce [0] at offset 80\n",
            "messgae delivered to ecommerce [0] at offset 81\n",
            "Message Send To Kafka Secessfully\n"
          ]
        }
      ],
      "source": [
        "# Sending multiple messages to Kafka\n",
        "\n",
        "topic = \"ecommerce\"\n",
        "\n",
        "def delivery_status(err,msg):\n",
        "  if(err):\n",
        "    print(f\"message delivery fail: {err}\")\n",
        "  else:\n",
        "    print(f\"messgae delivered to {msg.topic()} [{msg.partition()}] at offset {msg.offset()}\")\n",
        "\n",
        "for record in customers_data:\n",
        "  try:\n",
        "\n",
        "    message_value = json.dumps(record)\n",
        "    message_key = str(record[\"customer_id\"]).encode(\"utf-8\")\n",
        "\n",
        "    producer.produce(topic, key= message_key, value= message_value , callback = delivery_status)\n",
        "    producer.poll(1)\n",
        "\n",
        "  except Exception as e:\n",
        "    print(f\"error message: {e}\")\n",
        "\n",
        "producer.flush()\n",
        "\n",
        "print(\"Message Send To Kafka Secessfully\")"
      ]
    },
    {
      "cell_type": "code",
      "execution_count": null,
      "metadata": {
        "id": "DzIC33ZcSzRZ"
      },
      "outputs": [],
      "source": [
        "# Read Message From Kafka\n",
        "\n",
        "from confluent_kafka import Consumer ,KafkaError, KafkaException\n",
        "\n",
        "conf = {\n",
        "\n",
        "  \"bootstrap.servers\":\"pkc-619z3.us-east1.gcp.confluent.cloud:9092\",\n",
        "  \"security.protocol\":\"SASL_SSL\",\n",
        "  \"sasl.mechanisms\":\"PLAIN\",\n",
        "  \"sasl.username\":\"CPUUEECKBRJIFO27\",\n",
        "  \"sasl.password\":\"9bcUxeNfnbl4ujwLoPHdTSa3AsVvdKdSQZ6zESsoj/HttL5e12hzzxpP2JKtleAS\",\n",
        "\n",
        "  \"session.timeout.ms\":45000,\n",
        "\n",
        "  \"client.id\":\"ccloud-python-client-9df31087-19cf-428d-a689-b4a1decbef6c\",\n",
        "\n",
        "   \"auto.offset.reset\":\"earliest\",\n",
        "   \"group.id\":\"customer_group\",\n",
        "}\n"
      ]
    },
    {
      "cell_type": "code",
      "execution_count": null,
      "metadata": {
        "id": "ZReOem30tABK"
      },
      "outputs": [],
      "source": [
        "consumer = Consumer(conf)"
      ]
    },
    {
      "cell_type": "code",
      "execution_count": null,
      "metadata": {
        "colab": {
          "base_uri": "https://localhost:8080/"
        },
        "id": "Cq6P-JfOtXA6",
        "outputId": "8f98d3d2-7e9e-4a87-c588-6fb974c9382a"
      },
      "outputs": [
        {
          "output_type": "execute_result",
          "data": {
            "text/plain": [
              "<cimpl.Consumer at 0x78e973e90ea0>"
            ]
          },
          "metadata": {},
          "execution_count": 17
        }
      ],
      "source": [
        "consumer"
      ]
    },
    {
      "cell_type": "code",
      "execution_count": null,
      "metadata": {
        "id": "lCx-1Lsmtncw"
      },
      "outputs": [],
      "source": [
        "topic = \"ecommerce\"\n",
        "consumer.subscribe([topic])\n",
        "\n",
        "\n",
        "def process_message(message):\n",
        "  try:\n",
        "    if message.error():\n",
        "      if (message.error.code()) == KafkaError._PARTITION_EOF:\n",
        "        print(\"end of partition reached {0}/{1}\")\n",
        "\n",
        "      else:\n",
        "        raise KafkaException(message.error())\n",
        "\n",
        "    else:\n",
        "        key = message.key().decode(\"utf-8\")\n",
        "        value = json.loads(message.value().decode(\"utf-8\"))\n",
        "\n",
        "        print(f\"Received message : key {key}, value: {value}\")\n",
        "\n",
        "  except Exception as e:\n",
        "      print(f\"Error consuming/processing message : {e}\")"
      ]
    },
    {
      "cell_type": "code",
      "execution_count": null,
      "metadata": {
        "colab": {
          "base_uri": "https://localhost:8080/"
        },
        "id": "G8Svn_YwupX9",
        "outputId": "88c9e495-ea6a-4eac-e16f-b47fa8b082b5"
      },
      "outputs": [
        {
          "metadata": {
            "tags": null
          },
          "name": "stdout",
          "output_type": "stream",
          "text": [
            "Listening for messages, press ctrl + C to exit\n",
            "Error consuming/processing message : Expecting property name enclosed in double quotes: line 1 column 2 (char 1)\n",
            "Received message : key 0, value: {'customer_id': 0, 'name': 'Customer_0', 'city': 'Pune', 'state': 'Maharashtra', 'country': 'India', 'registration_date': '2023-06-29', 'is_active': False}\n",
            "Received message : key 1, value: {'customer_id': 1, 'name': 'Customer_1', 'city': 'Bangalore', 'state': 'Tamil Nadu', 'country': 'India', 'registration_date': '2023-12-07', 'is_active': True}\n",
            "Received message : key 8, value: {'customer_id': 8, 'name': 'Customer_8', 'city': 'Pune', 'state': 'Karnataka', 'country': 'India', 'registration_date': '2023-06-22', 'is_active': True}\n",
            "Received message : key 13, value: {'customer_id': 13, 'name': 'Customer_13', 'city': 'Chennai', 'state': 'Karnataka', 'country': 'India', 'registration_date': '2023-11-06', 'is_active': True}\n",
            "Received message : key 17, value: {'customer_id': 17, 'name': 'Customer_17', 'city': 'Hyderabad', 'state': 'West Bengal', 'country': 'India', 'registration_date': '2023-08-21', 'is_active': False}\n",
            "Received message : key 22, value: {'customer_id': 22, 'name': 'Customer_22', 'city': 'Chennai', 'state': 'West Bengal', 'country': 'India', 'registration_date': '2023-08-03', 'is_active': True}\n",
            "Received message : key 24, value: {'customer_id': 24, 'name': 'Customer_24', 'city': 'Kolkata', 'state': 'Karnataka', 'country': 'India', 'registration_date': '2023-03-06', 'is_active': False}\n",
            "Received message : key 29, value: {'customer_id': 29, 'name': 'Customer_29', 'city': 'Delhi', 'state': 'Gujarat', 'country': 'India', 'registration_date': '2023-05-28', 'is_active': False}\n",
            "Received message : key 33, value: {'customer_id': 33, 'name': 'Customer_33', 'city': 'Mumbai', 'state': 'West Bengal', 'country': 'India', 'registration_date': '2023-09-11', 'is_active': False}\n",
            "Received message : key 34, value: {'customer_id': 34, 'name': 'Customer_34', 'city': 'Kolkata', 'state': 'Gujarat', 'country': 'India', 'registration_date': '2023-11-01', 'is_active': True}\n",
            "Received message : key 40, value: {'customer_id': 40, 'name': 'Customer_40', 'city': 'Pune', 'state': 'West Bengal', 'country': 'India', 'registration_date': '2023-01-15', 'is_active': False}\n",
            "Received message : key 41, value: {'customer_id': 41, 'name': 'Customer_41', 'city': 'Bangalore', 'state': 'Karnataka', 'country': 'India', 'registration_date': '2023-03-28', 'is_active': False}\n",
            "Received message : key 42, value: {'customer_id': 42, 'name': 'Customer_42', 'city': 'Bangalore', 'state': 'Gujarat', 'country': 'India', 'registration_date': '2023-08-11', 'is_active': True}\n",
            "Received message : key 44, value: {'customer_id': 44, 'name': 'Customer_44', 'city': 'Pune', 'state': 'Gujarat', 'country': 'India', 'registration_date': '2023-04-01', 'is_active': True}\n",
            "Received message : key 55, value: {'customer_id': 55, 'name': 'Customer_55', 'city': 'Pune', 'state': 'Telangana', 'country': 'India', 'registration_date': '2023-12-07', 'is_active': True}\n",
            "Received message : key 59, value: {'customer_id': 59, 'name': 'Customer_59', 'city': 'Ahmedabad', 'state': 'Telangana', 'country': 'India', 'registration_date': '2023-07-08', 'is_active': True}\n",
            "Received message : key 74, value: {'customer_id': 74, 'name': 'Customer_74', 'city': 'Chennai', 'state': 'Gujarat', 'country': 'India', 'registration_date': '2023-01-10', 'is_active': False}\n",
            "Received message : key 76, value: {'customer_id': 76, 'name': 'Customer_76', 'city': 'Kolkata', 'state': 'Delhi', 'country': 'India', 'registration_date': '2023-01-08', 'is_active': False}\n",
            "Received message : key 79, value: {'customer_id': 79, 'name': 'Customer_79', 'city': 'Pune', 'state': 'Telangana', 'country': 'India', 'registration_date': '2023-02-06', 'is_active': True}\n",
            "Received message : key 81, value: {'customer_id': 81, 'name': 'Customer_81', 'city': 'Chennai', 'state': 'West Bengal', 'country': 'India', 'registration_date': '2023-08-22', 'is_active': True}\n",
            "Received message : key 83, value: {'customer_id': 83, 'name': 'Customer_83', 'city': 'Pune', 'state': 'Telangana', 'country': 'India', 'registration_date': '2023-08-28', 'is_active': True}\n",
            "Received message : key 7, value: {'customer_id': 7, 'name': 'Customer_7', 'city': 'Ahmedabad', 'state': 'West Bengal', 'country': 'India', 'registration_date': '2023-12-28', 'is_active': True}\n",
            "Received message : key 9, value: {'customer_id': 9, 'name': 'Customer_9', 'city': 'Mumbai', 'state': 'Telangana', 'country': 'India', 'registration_date': '2023-01-05', 'is_active': True}\n",
            "Received message : key 10, value: {'customer_id': 10, 'name': 'Customer_10', 'city': 'Pune', 'state': 'Gujarat', 'country': 'India', 'registration_date': '2023-08-05', 'is_active': True}\n",
            "Received message : key 11, value: {'customer_id': 11, 'name': 'Customer_11', 'city': 'Delhi', 'state': 'West Bengal', 'country': 'India', 'registration_date': '2023-08-02', 'is_active': False}\n",
            "Received message : key 12, value: {'customer_id': 12, 'name': 'Customer_12', 'city': 'Chennai', 'state': 'Gujarat', 'country': 'India', 'registration_date': '2023-11-21', 'is_active': False}\n",
            "Received message : key 14, value: {'customer_id': 14, 'name': 'Customer_14', 'city': 'Hyderabad', 'state': 'Tamil Nadu', 'country': 'India', 'registration_date': '2023-02-07', 'is_active': False}\n",
            "Received message : key 16, value: {'customer_id': 16, 'name': 'Customer_16', 'city': 'Chennai', 'state': 'Karnataka', 'country': 'India', 'registration_date': '2023-04-05', 'is_active': False}\n",
            "Received message : key 18, value: {'customer_id': 18, 'name': 'Customer_18', 'city': 'Pune', 'state': 'Delhi', 'country': 'India', 'registration_date': '2023-10-04', 'is_active': True}\n",
            "Received message : key 20, value: {'customer_id': 20, 'name': 'Customer_20', 'city': 'Hyderabad', 'state': 'Telangana', 'country': 'India', 'registration_date': '2023-01-01', 'is_active': True}\n",
            "Received message : key 25, value: {'customer_id': 25, 'name': 'Customer_25', 'city': 'Pune', 'state': 'Tamil Nadu', 'country': 'India', 'registration_date': '2023-01-06', 'is_active': False}\n",
            "Received message : key 27, value: {'customer_id': 27, 'name': 'Customer_27', 'city': 'Ahmedabad', 'state': 'Gujarat', 'country': 'India', 'registration_date': '2023-07-08', 'is_active': True}\n",
            "Received message : key 28, value: {'customer_id': 28, 'name': 'Customer_28', 'city': 'Hyderabad', 'state': 'Maharashtra', 'country': 'India', 'registration_date': '2023-05-31', 'is_active': True}\n",
            "Received message : key 38, value: {'customer_id': 38, 'name': 'Customer_38', 'city': 'Bangalore', 'state': 'Telangana', 'country': 'India', 'registration_date': '2023-09-26', 'is_active': False}\n",
            "Received message : key 46, value: {'customer_id': 46, 'name': 'Customer_46', 'city': 'Kolkata', 'state': 'Delhi', 'country': 'India', 'registration_date': '2023-09-23', 'is_active': True}\n",
            "Received message : key 47, value: {'customer_id': 47, 'name': 'Customer_47', 'city': 'Kolkata', 'state': 'Telangana', 'country': 'India', 'registration_date': '2023-11-03', 'is_active': True}\n",
            "Received message : key 48, value: {'customer_id': 48, 'name': 'Customer_48', 'city': 'Ahmedabad', 'state': 'Tamil Nadu', 'country': 'India', 'registration_date': '2023-11-16', 'is_active': True}\n",
            "Received message : key 49, value: {'customer_id': 49, 'name': 'Customer_49', 'city': 'Delhi', 'state': 'Gujarat', 'country': 'India', 'registration_date': '2023-04-16', 'is_active': True}\n",
            "Received message : key 50, value: {'customer_id': 50, 'name': 'Customer_50', 'city': 'Kolkata', 'state': 'Tamil Nadu', 'country': 'India', 'registration_date': '2023-09-10', 'is_active': True}\n",
            "Received message : key 51, value: {'customer_id': 51, 'name': 'Customer_51', 'city': 'Ahmedabad', 'state': 'Tamil Nadu', 'country': 'India', 'registration_date': '2023-07-18', 'is_active': True}\n",
            "Received message : key 53, value: {'customer_id': 53, 'name': 'Customer_53', 'city': 'Pune', 'state': 'Telangana', 'country': 'India', 'registration_date': '2023-08-27', 'is_active': True}\n",
            "Received message : key 57, value: {'customer_id': 57, 'name': 'Customer_57', 'city': 'Kolkata', 'state': 'Gujarat', 'country': 'India', 'registration_date': '2023-08-06', 'is_active': False}\n",
            "Received message : key 58, value: {'customer_id': 58, 'name': 'Customer_58', 'city': 'Kolkata', 'state': 'Tamil Nadu', 'country': 'India', 'registration_date': '2023-07-31', 'is_active': True}\n",
            "Received message : key 60, value: {'customer_id': 60, 'name': 'Customer_60', 'city': 'Mumbai', 'state': 'Tamil Nadu', 'country': 'India', 'registration_date': '2023-12-01', 'is_active': True}\n",
            "Received message : key 63, value: {'customer_id': 63, 'name': 'Customer_63', 'city': 'Mumbai', 'state': 'Karnataka', 'country': 'India', 'registration_date': '2023-05-23', 'is_active': True}\n",
            "Received message : key 64, value: {'customer_id': 64, 'name': 'Customer_64', 'city': 'Chennai', 'state': 'Maharashtra', 'country': 'India', 'registration_date': '2023-10-12', 'is_active': False}\n",
            "Received message : key 65, value: {'customer_id': 65, 'name': 'Customer_65', 'city': 'Delhi', 'state': 'Telangana', 'country': 'India', 'registration_date': '2023-03-11', 'is_active': True}\n",
            "Received message : key 72, value: {'customer_id': 72, 'name': 'Customer_72', 'city': 'Mumbai', 'state': 'Maharashtra', 'country': 'India', 'registration_date': '2023-09-20', 'is_active': False}\n",
            "Received message : key 75, value: {'customer_id': 75, 'name': 'Customer_75', 'city': 'Hyderabad', 'state': 'Telangana', 'country': 'India', 'registration_date': '2023-11-05', 'is_active': True}\n",
            "Received message : key 77, value: {'customer_id': 77, 'name': 'Customer_77', 'city': 'Pune', 'state': 'Telangana', 'country': 'India', 'registration_date': '2023-12-07', 'is_active': True}\n",
            "Received message : key 78, value: {'customer_id': 78, 'name': 'Customer_78', 'city': 'Bangalore', 'state': 'Maharashtra', 'country': 'India', 'registration_date': '2023-03-31', 'is_active': False}\n",
            "Received message : key 80, value: {'customer_id': 80, 'name': 'Customer_80', 'city': 'Ahmedabad', 'state': 'West Bengal', 'country': 'India', 'registration_date': '2023-03-25', 'is_active': False}\n",
            "Received message : key 82, value: {'customer_id': 82, 'name': 'Customer_82', 'city': 'Kolkata', 'state': 'Delhi', 'country': 'India', 'registration_date': '2023-09-07', 'is_active': False}\n",
            "Received message : key 85, value: {'customer_id': 85, 'name': 'Customer_85', 'city': 'Chennai', 'state': 'Gujarat', 'country': 'India', 'registration_date': '2023-07-30', 'is_active': True}\n",
            "Received message : key 86, value: {'customer_id': 86, 'name': 'Customer_86', 'city': 'Ahmedabad', 'state': 'Maharashtra', 'country': 'India', 'registration_date': '2023-08-13', 'is_active': False}\n",
            "Received message : key 89, value: {'customer_id': 89, 'name': 'Customer_89', 'city': 'Delhi', 'state': 'Gujarat', 'country': 'India', 'registration_date': '2023-10-28', 'is_active': True}\n",
            "Received message : key 90, value: {'customer_id': 90, 'name': 'Customer_90', 'city': 'Ahmedabad', 'state': 'Gujarat', 'country': 'India', 'registration_date': '2023-02-15', 'is_active': False}\n",
            "Received message : key 91, value: {'customer_id': 91, 'name': 'Customer_91', 'city': 'Mumbai', 'state': 'Telangana', 'country': 'India', 'registration_date': '2023-01-02', 'is_active': False}\n",
            "Received message : key 94, value: {'customer_id': 94, 'name': 'Customer_94', 'city': 'Chennai', 'state': 'Maharashtra', 'country': 'India', 'registration_date': '2023-04-28', 'is_active': False}\n",
            "Received message : key 95, value: {'customer_id': 95, 'name': 'Customer_95', 'city': 'Mumbai', 'state': 'Karnataka', 'country': 'India', 'registration_date': '2023-09-29', 'is_active': True}\n",
            "Received message : key 97, value: {'customer_id': 97, 'name': 'Customer_97', 'city': 'Pune', 'state': 'Maharashtra', 'country': 'India', 'registration_date': '2023-10-31', 'is_active': True}\n",
            "Received message : key 98, value: {'customer_id': 98, 'name': 'Customer_98', 'city': 'Pune', 'state': 'West Bengal', 'country': 'India', 'registration_date': '2023-06-01', 'is_active': True}\n",
            "Received message : key 2, value: {'customer_id': 2, 'name': 'Customer_2', 'city': 'Hyderabad', 'state': 'Gujarat', 'country': 'India', 'registration_date': '2023-10-27', 'is_active': True}\n",
            "Received message : key 3, value: {'customer_id': 3, 'name': 'Customer_3', 'city': 'Bangalore', 'state': 'Karnataka', 'country': 'India', 'registration_date': '2023-10-17', 'is_active': False}\n",
            "Received message : key 4, value: {'customer_id': 4, 'name': 'Customer_4', 'city': 'Ahmedabad', 'state': 'Karnataka', 'country': 'India', 'registration_date': '2023-03-14', 'is_active': False}\n",
            "Received message : key 5, value: {'customer_id': 5, 'name': 'Customer_5', 'city': 'Hyderabad', 'state': 'Karnataka', 'country': 'India', 'registration_date': '2023-07-28', 'is_active': False}\n",
            "Received message : key 6, value: {'customer_id': 6, 'name': 'Customer_6', 'city': 'Pune', 'state': 'Delhi', 'country': 'India', 'registration_date': '2023-08-29', 'is_active': False}\n",
            "Received message : key 15, value: {'customer_id': 15, 'name': 'Customer_15', 'city': 'Mumbai', 'state': 'Gujarat', 'country': 'India', 'registration_date': '2023-03-02', 'is_active': True}\n",
            "Received message : key 19, value: {'customer_id': 19, 'name': 'Customer_19', 'city': 'Kolkata', 'state': 'Gujarat', 'country': 'India', 'registration_date': '2023-02-05', 'is_active': True}\n",
            "Received message : key 21, value: {'customer_id': 21, 'name': 'Customer_21', 'city': 'Bangalore', 'state': 'Tamil Nadu', 'country': 'India', 'registration_date': '2023-05-30', 'is_active': True}\n",
            "Received message : key 23, value: {'customer_id': 23, 'name': 'Customer_23', 'city': 'Chennai', 'state': 'Maharashtra', 'country': 'India', 'registration_date': '2023-02-15', 'is_active': False}\n",
            "Received message : key 26, value: {'customer_id': 26, 'name': 'Customer_26', 'city': 'Delhi', 'state': 'Delhi', 'country': 'India', 'registration_date': '2023-03-22', 'is_active': True}\n",
            "Received message : key 30, value: {'customer_id': 30, 'name': 'Customer_30', 'city': 'Hyderabad', 'state': 'Karnataka', 'country': 'India', 'registration_date': '2023-01-28', 'is_active': False}\n",
            "Received message : key 31, value: {'customer_id': 31, 'name': 'Customer_31', 'city': 'Kolkata', 'state': 'Tamil Nadu', 'country': 'India', 'registration_date': '2023-06-14', 'is_active': False}\n",
            "Received message : key 32, value: {'customer_id': 32, 'name': 'Customer_32', 'city': 'Delhi', 'state': 'Telangana', 'country': 'India', 'registration_date': '2023-05-15', 'is_active': False}\n",
            "Received message : key 35, value: {'customer_id': 35, 'name': 'Customer_35', 'city': 'Pune', 'state': 'Karnataka', 'country': 'India', 'registration_date': '2023-07-31', 'is_active': False}\n",
            "Received message : key 36, value: {'customer_id': 36, 'name': 'Customer_36', 'city': 'Ahmedabad', 'state': 'Tamil Nadu', 'country': 'India', 'registration_date': '2023-10-07', 'is_active': True}\n",
            "Received message : key 37, value: {'customer_id': 37, 'name': 'Customer_37', 'city': 'Hyderabad', 'state': 'Karnataka', 'country': 'India', 'registration_date': '2023-03-21', 'is_active': True}\n",
            "Received message : key 39, value: {'customer_id': 39, 'name': 'Customer_39', 'city': 'Pune', 'state': 'Tamil Nadu', 'country': 'India', 'registration_date': '2023-12-14', 'is_active': False}\n",
            "Received message : key 43, value: {'customer_id': 43, 'name': 'Customer_43', 'city': 'Hyderabad', 'state': 'Tamil Nadu', 'country': 'India', 'registration_date': '2023-11-21', 'is_active': True}\n",
            "Received message : key 45, value: {'customer_id': 45, 'name': 'Customer_45', 'city': 'Chennai', 'state': 'Maharashtra', 'country': 'India', 'registration_date': '2023-11-12', 'is_active': False}\n",
            "Received message : key 52, value: {'customer_id': 52, 'name': 'Customer_52', 'city': 'Ahmedabad', 'state': 'Karnataka', 'country': 'India', 'registration_date': '2023-02-25', 'is_active': True}\n",
            "Received message : key 54, value: {'customer_id': 54, 'name': 'Customer_54', 'city': 'Kolkata', 'state': 'Delhi', 'country': 'India', 'registration_date': '2023-12-13', 'is_active': False}\n",
            "Received message : key 56, value: {'customer_id': 56, 'name': 'Customer_56', 'city': 'Delhi', 'state': 'Karnataka', 'country': 'India', 'registration_date': '2023-12-29', 'is_active': False}\n",
            "Received message : key 61, value: {'customer_id': 61, 'name': 'Customer_61', 'city': 'Hyderabad', 'state': 'Delhi', 'country': 'India', 'registration_date': '2023-12-31', 'is_active': False}\n",
            "Received message : key 62, value: {'customer_id': 62, 'name': 'Customer_62', 'city': 'Delhi', 'state': 'Maharashtra', 'country': 'India', 'registration_date': '2023-04-12', 'is_active': True}\n",
            "Received message : key 66, value: {'customer_id': 66, 'name': 'Customer_66', 'city': 'Pune', 'state': 'Tamil Nadu', 'country': 'India', 'registration_date': '2023-12-02', 'is_active': True}\n",
            "Received message : key 67, value: {'customer_id': 67, 'name': 'Customer_67', 'city': 'Hyderabad', 'state': 'Gujarat', 'country': 'India', 'registration_date': '2023-03-06', 'is_active': False}\n",
            "Received message : key 68, value: {'customer_id': 68, 'name': 'Customer_68', 'city': 'Kolkata', 'state': 'Gujarat', 'country': 'India', 'registration_date': '2023-07-17', 'is_active': False}\n",
            "Received message : key 69, value: {'customer_id': 69, 'name': 'Customer_69', 'city': 'Pune', 'state': 'Tamil Nadu', 'country': 'India', 'registration_date': '2023-01-16', 'is_active': True}\n",
            "Received message : key 70, value: {'customer_id': 70, 'name': 'Customer_70', 'city': 'Kolkata', 'state': 'West Bengal', 'country': 'India', 'registration_date': '2023-11-06', 'is_active': True}\n",
            "Received message : key 71, value: {'customer_id': 71, 'name': 'Customer_71', 'city': 'Mumbai', 'state': 'West Bengal', 'country': 'India', 'registration_date': '2023-12-19', 'is_active': True}\n",
            "Received message : key 73, value: {'customer_id': 73, 'name': 'Customer_73', 'city': 'Chennai', 'state': 'West Bengal', 'country': 'India', 'registration_date': '2023-03-01', 'is_active': False}\n",
            "Received message : key 84, value: {'customer_id': 84, 'name': 'Customer_84', 'city': 'Pune', 'state': 'Delhi', 'country': 'India', 'registration_date': '2023-04-14', 'is_active': False}\n",
            "Received message : key 87, value: {'customer_id': 87, 'name': 'Customer_87', 'city': 'Pune', 'state': 'Karnataka', 'country': 'India', 'registration_date': '2023-10-06', 'is_active': False}\n",
            "Received message : key 88, value: {'customer_id': 88, 'name': 'Customer_88', 'city': 'Pune', 'state': 'Telangana', 'country': 'India', 'registration_date': '2023-06-15', 'is_active': True}\n",
            "Received message : key 92, value: {'customer_id': 92, 'name': 'Customer_92', 'city': 'Kolkata', 'state': 'Delhi', 'country': 'India', 'registration_date': '2023-06-25', 'is_active': True}\n",
            "Received message : key 93, value: {'customer_id': 93, 'name': 'Customer_93', 'city': 'Pune', 'state': 'West Bengal', 'country': 'India', 'registration_date': '2023-09-30', 'is_active': False}\n",
            "Received message : key 96, value: {'customer_id': 96, 'name': 'Customer_96', 'city': 'Ahmedabad', 'state': 'Telangana', 'country': 'India', 'registration_date': '2023-06-22', 'is_active': False}\n"
          ]
        }
      ],
      "source": [
        "# Poll message continuously\n",
        "\n",
        "try:\n",
        "  print(\"Listening for messages, press ctrl + C to exit\")\n",
        "\n",
        "  while True:\n",
        "    message = consumer.poll(timeout = 1.0)\n",
        "    if message:\n",
        "      process_message(message)\n",
        "\n",
        "except KeyboardInterrupt:\n",
        "  print(\"Interrupted by user, shutting down consumer\")\n",
        "\n",
        "finally:\n",
        "  consumer.close()"
      ]
    },
    {
      "cell_type": "code",
      "execution_count": null,
      "metadata": {
        "id": "w2OoZMDA6y-2"
      },
      "outputs": [],
      "source": []
    }
  ],
  "metadata": {
    "colab": {
      "provenance": [],
      "authorship_tag": "ABX9TyPTClcjbcQuXI7wmT78op11",
      "include_colab_link": true
    },
    "kernelspec": {
      "display_name": "Python 3",
      "name": "python3"
    },
    "language_info": {
      "name": "python"
    }
  },
  "nbformat": 4,
  "nbformat_minor": 0
}